{
  "nbformat": 4,
  "nbformat_minor": 0,
  "metadata": {
    "colab": {
      "name": "Untitled7.ipynb",
      "provenance": [],
      "authorship_tag": "ABX9TyOtiMNo/gZa7fKDr0BybK+L",
      "include_colab_link": true
    },
    "kernelspec": {
      "name": "python3",
      "display_name": "Python 3"
    }
  },
  "cells": [
    {
      "cell_type": "markdown",
      "metadata": {
        "id": "view-in-github",
        "colab_type": "text"
      },
      "source": [
        "<a href=\"https://colab.research.google.com/github/Karupa/8051/blob/master/Untitled7.ipynb\" target=\"_parent\"><img src=\"https://colab.research.google.com/assets/colab-badge.svg\" alt=\"Open In Colab\"/></a>"
      ]
    },
    {
      "cell_type": "code",
      "metadata": {
        "id": "AVjw4SjibXbJ",
        "colab_type": "code",
        "outputId": "62accb89-94b8-437f-e257-5090382ed35b",
        "colab": {
          "base_uri": "https://localhost:8080/",
          "height": 69
        }
      },
      "source": [
        "import torch as t\n",
        "x=t.rand(3,7)\n",
        "print (x)\n",
        "\n",
        " "
      ],
      "execution_count": 0,
      "outputs": [
        {
          "output_type": "stream",
          "text": [
            "tensor([[0.3259, 0.4663, 0.0358, 0.7409, 0.4306, 0.1108, 0.8616],\n",
            "        [0.6398, 0.3971, 0.0714, 0.6730, 0.0802, 0.5163, 0.8608],\n",
            "        [0.1621, 0.7990, 0.8370, 0.6098, 0.0931, 0.0490, 0.1103]])\n"
          ],
          "name": "stdout"
        }
      ]
    },
    {
      "cell_type": "code",
      "metadata": {
        "id": "KFyuBJmKcDQR",
        "colab_type": "code",
        "outputId": "794339b6-1fe4-4f23-cb51-3baf479a8d95",
        "colab": {
          "base_uri": "https://localhost:8080/",
          "height": 69
        }
      },
      "source": [
        "import torch as t\n",
        "y=t.rand(3,7)\n",
        "print (y)\n"
      ],
      "execution_count": 0,
      "outputs": [
        {
          "output_type": "stream",
          "text": [
            "tensor([[0.9416, 0.1047, 0.4676, 0.6426, 0.6665, 0.1523, 0.5084],\n",
            "        [0.5985, 0.0370, 0.4180, 0.2927, 0.4754, 0.0560, 0.8822],\n",
            "        [0.2611, 0.1204, 0.9302, 0.5985, 0.3443, 0.9608, 0.6174]])\n"
          ],
          "name": "stdout"
        }
      ]
    },
    {
      "cell_type": "code",
      "metadata": {
        "id": "E9SC-DJ8cSLB",
        "colab_type": "code",
        "outputId": "882b3e26-7cf1-4971-cf81-f1a7662a75b5",
        "colab": {
          "base_uri": "https://localhost:8080/",
          "height": 69
        }
      },
      "source": [
        "z=x+y\n",
        "print(z)"
      ],
      "execution_count": 0,
      "outputs": [
        {
          "output_type": "stream",
          "text": [
            "tensor([[1.2675, 0.5709, 0.5034, 1.3835, 1.0972, 0.2632, 1.3699],\n",
            "        [1.2383, 0.4341, 0.4894, 0.9657, 0.5555, 0.5723, 1.7430],\n",
            "        [0.4233, 0.9194, 1.7672, 1.2083, 0.4374, 1.0098, 0.7276]])\n"
          ],
          "name": "stdout"
        }
      ]
    },
    {
      "cell_type": "code",
      "metadata": {
        "id": "MRvBrPWDcYlY",
        "colab_type": "code",
        "outputId": "91317c9d-9a29-4361-f4e9-83b520d15770",
        "colab": {
          "base_uri": "https://localhost:8080/",
          "height": 69
        }
      },
      "source": [
        "z1=t.mul(x,y)\n",
        "print(z1)"
      ],
      "execution_count": 0,
      "outputs": [
        {
          "output_type": "stream",
          "text": [
            "tensor([[0.3069, 0.0488, 0.0167, 0.4761, 0.2870, 0.0169, 0.4380],\n",
            "        [0.3829, 0.0147, 0.0299, 0.1970, 0.0381, 0.0289, 0.7594],\n",
            "        [0.0423, 0.0962, 0.7785, 0.3650, 0.0321, 0.0471, 0.0681]])\n"
          ],
          "name": "stdout"
        }
      ]
    },
    {
      "cell_type": "code",
      "metadata": {
        "id": "RE3lrP-fczvx",
        "colab_type": "code",
        "outputId": "7cfff338-4b0c-4180-970b-c5abccc8833f",
        "colab": {
          "base_uri": "https://localhost:8080/",
          "height": 34
        }
      },
      "source": [
        "x[-1]"
      ],
      "execution_count": 0,
      "outputs": [
        {
          "output_type": "execute_result",
          "data": {
            "text/plain": [
              "tensor([0.1621, 0.7990, 0.8370, 0.6098, 0.0931, 0.0490, 0.1103])"
            ]
          },
          "metadata": {
            "tags": []
          },
          "execution_count": 10
        }
      ]
    },
    {
      "cell_type": "code",
      "metadata": {
        "id": "PHJKs_hWhHD0",
        "colab_type": "code",
        "outputId": "6f9ec35d-cd76-47f8-d889-ef87c5227e4d",
        "colab": {
          "base_uri": "https://localhost:8080/",
          "height": 69
        }
      },
      "source": [
        "print(x)\n"
      ],
      "execution_count": 0,
      "outputs": [
        {
          "output_type": "stream",
          "text": [
            "tensor([[0.3259, 0.4663, 0.0358, 0.7409, 0.4306, 0.1108, 0.8616],\n",
            "        [0.6398, 0.3971, 0.0714, 0.6730, 0.0802, 0.5163, 0.8608],\n",
            "        [0.1621, 0.7990, 0.8370, 0.6098, 0.0931, 0.0490, 0.1103]])\n"
          ],
          "name": "stdout"
        }
      ]
    },
    {
      "cell_type": "code",
      "metadata": {
        "id": "q5yx8lMDhNC0",
        "colab_type": "code",
        "outputId": "8894e353-6677-4622-8b69-803105a73f61",
        "colab": {
          "base_uri": "https://localhost:8080/",
          "height": 69
        }
      },
      "source": [
        "x=x.view(3,7)\n",
        "print(x)"
      ],
      "execution_count": 0,
      "outputs": [
        {
          "output_type": "stream",
          "text": [
            "tensor([[0.3259, 0.4663, 0.0358, 0.7409, 0.4306, 0.1108, 0.8616],\n",
            "        [0.6398, 0.3971, 0.0714, 0.6730, 0.0802, 0.5163, 0.8608],\n",
            "        [0.1621, 0.7990, 0.8370, 0.6098, 0.0931, 0.0490, 0.1103]])\n"
          ],
          "name": "stdout"
        }
      ]
    },
    {
      "cell_type": "code",
      "metadata": {
        "id": "PdcBiXTqhe6c",
        "colab_type": "code",
        "outputId": "9471a9c2-4963-4e28-ecac-21f2ac8d2e17",
        "colab": {
          "base_uri": "https://localhost:8080/",
          "height": 173
        }
      },
      "source": [
        "x_numpy=x.numpy()\n",
        "print(x_numpy)\n",
        "print(y)\n"
      ],
      "execution_count": 0,
      "outputs": [
        {
          "output_type": "stream",
          "text": [
            "[[0.32590896 0.46625203 0.0358035  0.7408888  0.4306441  0.11082619\n",
            "  0.8615826 ]\n",
            " [0.6397884  0.3971101  0.07142776 0.6729887  0.08018404 0.516301\n",
            "  0.8608118 ]\n",
            " [0.1621151  0.7989853  0.8369761  0.6097621  0.09308213 0.04903823\n",
            "  0.11026198]]\n",
            "tensor([[0.9416, 0.1047, 0.4676, 0.6426, 0.6665, 0.1523, 0.5084],\n",
            "        [0.5985, 0.0370, 0.4180, 0.2927, 0.4754, 0.0560, 0.8822],\n",
            "        [0.2611, 0.1204, 0.9302, 0.5985, 0.3443, 0.9608, 0.6174]])\n"
          ],
          "name": "stdout"
        }
      ]
    },
    {
      "cell_type": "code",
      "metadata": {
        "id": "NvBuPN0Lh_wL",
        "colab_type": "code",
        "outputId": "266c0c81-65d8-42b9-f28a-7b6cacb3eabf",
        "colab": {
          "base_uri": "https://localhost:8080/",
          "height": 121
        }
      },
      "source": [
        "y_numpy=y.numpy()\n",
        "print(y_numpy)"
      ],
      "execution_count": 0,
      "outputs": [
        {
          "output_type": "stream",
          "text": [
            "[[0.9416206  0.10469222 0.46762317 0.64261216 0.6665261  0.15233111\n",
            "  0.508353  ]\n",
            " [0.5984679  0.03698629 0.41800648 0.2927472  0.4753586  0.05595315\n",
            "  0.88220537]\n",
            " [0.26114506 0.12044388 0.9301768  0.598543   0.34432203 0.96076185\n",
            "  0.61736625]]\n"
          ],
          "name": "stdout"
        }
      ]
    },
    {
      "cell_type": "code",
      "metadata": {
        "id": "LkCMHRHUiPzU",
        "colab_type": "code",
        "outputId": "9c2bef72-0d5d-4568-c5ce-8883e2fe41e9",
        "colab": {
          "base_uri": "https://localhost:8080/",
          "height": 69
        }
      },
      "source": [
        "import torch\n",
        "import numpy as np\n",
        "a=np.ones((3,3))\n",
        "a_torch=torch.from_numpy(a)\n",
        "print(a_torch)"
      ],
      "execution_count": 0,
      "outputs": [
        {
          "output_type": "stream",
          "text": [
            "tensor([[1., 1., 1.],\n",
            "        [1., 1., 1.],\n",
            "        [1., 1., 1.]], dtype=torch.float64)\n"
          ],
          "name": "stdout"
        }
      ]
    },
    {
      "cell_type": "markdown",
      "metadata": {
        "id": "ncmxYf-EkGav",
        "colab_type": "text"
      },
      "source": [
        "Derivative part (i.e) f(w,b)=((x*x)+1)power(1/2)\n"
      ]
    },
    {
      "cell_type": "code",
      "metadata": {
        "id": "613-KpA9lUHE",
        "colab_type": "code",
        "outputId": "3700fa56-c1ca-487e-e9e3-855db7ae4216",
        "colab": {
          "base_uri": "https://localhost:8080/",
          "height": 289
        }
      },
      "source": [
        "import torch as t\n",
        "x=t.rand(2,2,requiers_grad=True)\n",
        "y=x+3\n",
        "print(x.grad_fn)"
      ],
      "execution_count": 0,
      "outputs": [
        {
          "output_type": "error",
          "ename": "TypeError",
          "evalue": "ignored",
          "traceback": [
            "\u001b[0;31m---------------------------------------------------------------------------\u001b[0m",
            "\u001b[0;31mTypeError\u001b[0m                                 Traceback (most recent call last)",
            "\u001b[0;32m<ipython-input-21-8eb98540786d>\u001b[0m in \u001b[0;36m<module>\u001b[0;34m()\u001b[0m\n\u001b[1;32m      1\u001b[0m \u001b[0;32mimport\u001b[0m \u001b[0mtorch\u001b[0m \u001b[0;32mas\u001b[0m \u001b[0mt\u001b[0m\u001b[0;34m\u001b[0m\u001b[0;34m\u001b[0m\u001b[0m\n\u001b[0;32m----> 2\u001b[0;31m \u001b[0mx\u001b[0m\u001b[0;34m=\u001b[0m\u001b[0mt\u001b[0m\u001b[0;34m.\u001b[0m\u001b[0mrand\u001b[0m\u001b[0;34m(\u001b[0m\u001b[0;36m2\u001b[0m\u001b[0;34m,\u001b[0m\u001b[0;36m2\u001b[0m\u001b[0;34m,\u001b[0m\u001b[0mrequiers_grad\u001b[0m\u001b[0;34m=\u001b[0m\u001b[0;32mTrue\u001b[0m\u001b[0;34m)\u001b[0m\u001b[0;34m\u001b[0m\u001b[0;34m\u001b[0m\u001b[0m\n\u001b[0m\u001b[1;32m      3\u001b[0m \u001b[0my\u001b[0m\u001b[0;34m=\u001b[0m\u001b[0mx\u001b[0m\u001b[0;34m+\u001b[0m\u001b[0;36m3\u001b[0m\u001b[0;34m\u001b[0m\u001b[0;34m\u001b[0m\u001b[0m\n\u001b[1;32m      4\u001b[0m \u001b[0mprint\u001b[0m\u001b[0;34m(\u001b[0m\u001b[0mx\u001b[0m\u001b[0;34m.\u001b[0m\u001b[0mgrad_fn\u001b[0m\u001b[0;34m)\u001b[0m\u001b[0;34m\u001b[0m\u001b[0;34m\u001b[0m\u001b[0m\n",
            "\u001b[0;31mTypeError\u001b[0m: rand() received an invalid combination of arguments - got (int, int, requiers_grad=bool), but expected one of:\n * (tuple of ints size, tuple of names names, torch.dtype dtype, torch.layout layout, torch.device device, bool pin_memory, bool requires_grad)\n * (tuple of ints size, torch.Generator generator, tuple of names names, torch.dtype dtype, torch.layout layout, torch.device device, bool pin_memory, bool requires_grad)\n * (tuple of ints size, torch.Generator generator, Tensor out, torch.dtype dtype, torch.layout layout, torch.device device, bool pin_memory, bool requires_grad)\n * (tuple of ints size, Tensor out, torch.dtype dtype, torch.layout layout, torch.device device, bool pin_memory, bool requires_grad)\n"
          ]
        }
      ]
    },
    {
      "cell_type": "markdown",
      "metadata": {
        "id": "Ro2gOYJnnKsh",
        "colab_type": "text"
      },
      "source": [
        "start"
      ]
    },
    {
      "cell_type": "code",
      "metadata": {
        "id": "kwWGP3yznMAf",
        "colab_type": "code",
        "colab": {}
      },
      "source": [
        "class lR(nn.Module):\n",
        "  def __init__(self,input_size,num_classes):\n",
        "     super(lR,self).__init__()\n",
        "     self.linear=nn.linear(input_size,nn_classes)\n",
        "\n",
        "  def  "
      ],
      "execution_count": 0,
      "outputs": []
    }
  ]
}